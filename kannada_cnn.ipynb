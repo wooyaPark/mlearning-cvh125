{
  "nbformat": 4,
  "nbformat_minor": 0,
  "metadata": {
    "colab": {
      "name": "kannada_cnn.ipynb",
      "provenance": [],
      "collapsed_sections": [],
      "toc_visible": true
    },
    "kernelspec": {
      "name": "python3",
      "display_name": "Python 3"
    },
    "accelerator": "GPU"
  },
  "cells": [
    {
      "cell_type": "markdown",
      "metadata": {
        "id": "TMLETFH5aPuU",
        "colab_type": "text"
      },
      "source": [
        "# 데이터 로드"
      ]
    },
    {
      "cell_type": "code",
      "metadata": {
        "id": "tdoS9k4avKXo",
        "colab_type": "code",
        "outputId": "23b9365f-c166-46c8-c013-92e1a4e450b7",
        "colab": {
          "base_uri": "https://localhost:8080/",
          "height": 34
        }
      },
      "source": [
        "from google.colab import drive\n",
        "drive.mount('/content/drive')"
      ],
      "execution_count": 0,
      "outputs": [
        {
          "output_type": "stream",
          "text": [
            "Drive already mounted at /content/drive; to attempt to forcibly remount, call drive.mount(\"/content/drive\", force_remount=True).\n"
          ],
          "name": "stdout"
        }
      ]
    },
    {
      "cell_type": "code",
      "metadata": {
        "id": "-Lkai-7_vRQx",
        "colab_type": "code",
        "outputId": "3a65d915-971d-48a9-e132-f7d57177c307",
        "colab": {
          "base_uri": "https://localhost:8080/",
          "height": 34
        }
      },
      "source": [
        "%tensorflow_version 2.x"
      ],
      "execution_count": 0,
      "outputs": [
        {
          "output_type": "stream",
          "text": [
            "TensorFlow 2.x selected.\n"
          ],
          "name": "stdout"
        }
      ]
    },
    {
      "cell_type": "code",
      "metadata": {
        "id": "-5pXNP8Hvejw",
        "colab_type": "code",
        "outputId": "4dc7e0c2-47cb-48e8-9cac-d1b5977162af",
        "colab": {
          "base_uri": "https://localhost:8080/",
          "height": 34
        }
      },
      "source": [
        "import tensorflow as tf\n",
        "from tensorflow.keras import layers, models\n",
        "\n",
        "from  sklearn.model_selection import train_test_split\n",
        "\n",
        "import pandas as pd\n",
        "import numpy as np\n",
        "import matplotlib.pyplot as plt\n",
        "\n",
        "print(tf.__version__)"
      ],
      "execution_count": 0,
      "outputs": [
        {
          "output_type": "stream",
          "text": [
            "2.0.0\n"
          ],
          "name": "stdout"
        }
      ]
    },
    {
      "cell_type": "code",
      "metadata": {
        "id": "zjCkt_GDwB15",
        "colab_type": "code",
        "colab": {}
      },
      "source": [
        "train = pd.read_csv(\"./drive/My Drive/data/kannada/train.csv\")\n",
        "test  = pd.read_csv(\"./drive/My Drive/data/kannada/test.csv\")"
      ],
      "execution_count": 0,
      "outputs": []
    },
    {
      "cell_type": "markdown",
      "metadata": {
        "id": "5yk9BNvJal0c",
        "colab_type": "text"
      },
      "source": [
        "# 데이터 전처리"
      ]
    },
    {
      "cell_type": "code",
      "metadata": {
        "id": "yxfhuxhhwB9S",
        "colab_type": "code",
        "colab": {}
      },
      "source": [
        "train_images = train.iloc[:,1:]\n",
        "train_labels = train[\"label\"]\n",
        "test_images = test.iloc[:,1:]"
      ],
      "execution_count": 0,
      "outputs": []
    },
    {
      "cell_type": "code",
      "metadata": {
        "id": "Pi-SC-KJzL-q",
        "colab_type": "code",
        "colab": {}
      },
      "source": [
        "x_train, x_valid, y_train, y_valid = train_test_split(train_images, train_labels, test_size=0.1, random_state=42)"
      ],
      "execution_count": 0,
      "outputs": []
    },
    {
      "cell_type": "code",
      "metadata": {
        "id": "HLov6QpLzM93",
        "colab_type": "code",
        "colab": {}
      },
      "source": [
        "# class_names = ['0','1','2','3','4','5','6','7','8','9']"
      ],
      "execution_count": 0,
      "outputs": []
    },
    {
      "cell_type": "code",
      "metadata": {
        "id": "kdZdcPhXzNBI",
        "colab_type": "code",
        "colab": {}
      },
      "source": [
        "# Keras는 0~1 사이의 값일 때 가장 최적의 성능을 보이기 때문에 픽셀 값의 최대값인 255로 나눠줌\n",
        "x_train, x_valid, x_test = x_train.apply(lambda x: x/255), x_valid.apply(lambda x: x/255), test_images.apply(lambda x: x/255)"
      ],
      "execution_count": 0,
      "outputs": []
    },
    {
      "cell_type": "code",
      "metadata": {
        "id": "H0v5LO29zNEK",
        "colab_type": "code",
        "outputId": "7618d198-fb32-4305-f015-08a189439b0f",
        "colab": {
          "base_uri": "https://localhost:8080/",
          "height": 52
        }
      },
      "source": [
        "# 이미지 사이즈 변환 : (54000, 784) -> (54000, 28, 28)\n",
        "# CNN은 (이미지 높이, 이미지 너비, 컬러 채널) 크기의 텐서(tensor)를 입력으로 받기 때문에\n",
        "# 컬러 채널은 컬러면 3, 흑백이면 1\n",
        "print(x_train.shape)\n",
        "x_train = x_train.values.reshape(-1, 28, 28, 1)\n",
        "x_valid = x_valid.values.reshape(-1, 28, 28, 1)\n",
        "print(x_train.shape)"
      ],
      "execution_count": 0,
      "outputs": [
        {
          "output_type": "stream",
          "text": [
            "(54000, 784)\n",
            "(54000, 28, 28, 1)\n"
          ],
          "name": "stdout"
        }
      ]
    },
    {
      "cell_type": "code",
      "metadata": {
        "id": "gPRDpg-bzNKj",
        "colab_type": "code",
        "colab": {}
      },
      "source": [
        "y_train = y_train.to_numpy()\n",
        "y_valid = y_valid.to_numpy()"
      ],
      "execution_count": 0,
      "outputs": []
    },
    {
      "cell_type": "markdown",
      "metadata": {
        "id": "PGvjonZRd56h",
        "colab_type": "text"
      },
      "source": [
        "# 모델 구성"
      ]
    },
    {
      "cell_type": "code",
      "metadata": {
        "id": "cQvDIETJTNKr",
        "colab_type": "code",
        "colab": {}
      },
      "source": [
        "# 층을 쌓기 위해 먼저 Sequential 함수 사용\n",
        "model = models.Sequential()\n",
        "model.add(layers.Conv2D(64, (3, 3), activation='relu', input_shape=(28, 28, 1)))\n",
        "model.add(layers.BatchNormalization())\n",
        "model.add(layers.Conv2D(64, (3, 3), activation='relu'))\n",
        "model.add(layers.BatchNormalization())\n",
        "model.add(layers.MaxPooling2D((2, 2)))\n",
        "model.add(layers.Dropout(0.2))\n",
        "\n",
        "model.add(layers.Conv2D(128, (3, 3), activation='relu'))\n",
        "model.add(layers.BatchNormalization())\n",
        "model.add(layers.Conv2D(128, (3, 3), activation='relu'))\n",
        "model.add(layers.BatchNormalization())\n",
        "model.add(layers.MaxPooling2D((2, 2)))\n",
        "model.add(layers.Dropout(0.2))\n",
        "\n",
        "model.add(layers.Conv2D(256, (3, 3), activation='relu'))\n",
        "model.add(layers.BatchNormalization())\n",
        "model.add(layers.MaxPooling2D((2, 2)))\n",
        "model.add(layers.Dropout(0.2))"
      ],
      "execution_count": 0,
      "outputs": []
    },
    {
      "cell_type": "code",
      "metadata": {
        "id": "Au3yhJvPzNRT",
        "colab_type": "code",
        "colab": {}
      },
      "source": [
        "model.add(layers.Flatten())\n",
        "model.add(layers.Dense(128, activation='relu'))\n",
        "model.add(layers.BatchNormalization())\n",
        "model.add(layers.Dense(64, activation='relu'))\n",
        "model.add(layers.BatchNormalization())\n",
        "model.add(layers.Dense(10, activation='softmax'))"
      ],
      "execution_count": 0,
      "outputs": []
    },
    {
      "cell_type": "code",
      "metadata": {
        "id": "tXaube1PHZhE",
        "colab_type": "code",
        "outputId": "fbc2af45-2703-47fc-b54e-f6f38c34f7e2",
        "colab": {
          "base_uri": "https://localhost:8080/",
          "height": 932
        }
      },
      "source": [
        "model.summary()"
      ],
      "execution_count": 0,
      "outputs": [
        {
          "output_type": "stream",
          "text": [
            "Model: \"sequential\"\n",
            "_________________________________________________________________\n",
            "Layer (type)                 Output Shape              Param #   \n",
            "=================================================================\n",
            "conv2d (Conv2D)              (None, 26, 26, 64)        640       \n",
            "_________________________________________________________________\n",
            "batch_normalization (BatchNo (None, 26, 26, 64)        256       \n",
            "_________________________________________________________________\n",
            "conv2d_1 (Conv2D)            (None, 24, 24, 64)        36928     \n",
            "_________________________________________________________________\n",
            "batch_normalization_1 (Batch (None, 24, 24, 64)        256       \n",
            "_________________________________________________________________\n",
            "max_pooling2d (MaxPooling2D) (None, 12, 12, 64)        0         \n",
            "_________________________________________________________________\n",
            "dropout (Dropout)            (None, 12, 12, 64)        0         \n",
            "_________________________________________________________________\n",
            "conv2d_2 (Conv2D)            (None, 10, 10, 128)       73856     \n",
            "_________________________________________________________________\n",
            "batch_normalization_2 (Batch (None, 10, 10, 128)       512       \n",
            "_________________________________________________________________\n",
            "conv2d_3 (Conv2D)            (None, 8, 8, 128)         147584    \n",
            "_________________________________________________________________\n",
            "batch_normalization_3 (Batch (None, 8, 8, 128)         512       \n",
            "_________________________________________________________________\n",
            "max_pooling2d_1 (MaxPooling2 (None, 4, 4, 128)         0         \n",
            "_________________________________________________________________\n",
            "dropout_1 (Dropout)          (None, 4, 4, 128)         0         \n",
            "_________________________________________________________________\n",
            "conv2d_4 (Conv2D)            (None, 2, 2, 256)         295168    \n",
            "_________________________________________________________________\n",
            "batch_normalization_4 (Batch (None, 2, 2, 256)         1024      \n",
            "_________________________________________________________________\n",
            "max_pooling2d_2 (MaxPooling2 (None, 1, 1, 256)         0         \n",
            "_________________________________________________________________\n",
            "dropout_2 (Dropout)          (None, 1, 1, 256)         0         \n",
            "_________________________________________________________________\n",
            "flatten (Flatten)            (None, 256)               0         \n",
            "_________________________________________________________________\n",
            "dense (Dense)                (None, 128)               32896     \n",
            "_________________________________________________________________\n",
            "batch_normalization_5 (Batch (None, 128)               512       \n",
            "_________________________________________________________________\n",
            "dense_1 (Dense)              (None, 64)                8256      \n",
            "_________________________________________________________________\n",
            "batch_normalization_6 (Batch (None, 64)                256       \n",
            "_________________________________________________________________\n",
            "dense_2 (Dense)              (None, 10)                650       \n",
            "=================================================================\n",
            "Total params: 599,306\n",
            "Trainable params: 597,642\n",
            "Non-trainable params: 1,664\n",
            "_________________________________________________________________\n"
          ],
          "name": "stdout"
        }
      ]
    },
    {
      "cell_type": "markdown",
      "metadata": {
        "id": "b57E0bh3eNIU",
        "colab_type": "text"
      },
      "source": [
        "# 모델 컴파일 및 학습"
      ]
    },
    {
      "cell_type": "code",
      "metadata": {
        "id": "LZl3Gntd9yd4",
        "colab_type": "code",
        "colab": {}
      },
      "source": [
        "model.compile(optimizer='adam',\n",
        "              loss='sparse_categorical_crossentropy',\n",
        "              metrics=['accuracy'])"
      ],
      "execution_count": 0,
      "outputs": []
    },
    {
      "cell_type": "code",
      "metadata": {
        "id": "yI-EsKjc9ymk",
        "colab_type": "code",
        "outputId": "a4dc80f3-e932-45ea-dcb8-7c664607a842",
        "colab": {
          "base_uri": "https://localhost:8080/",
          "height": 756
        }
      },
      "source": [
        "model.fit(x_train, y_train, epochs=20)"
      ],
      "execution_count": 0,
      "outputs": [
        {
          "output_type": "stream",
          "text": [
            "Train on 54000 samples\n",
            "Epoch 1/20\n",
            "54000/54000 [==============================] - 18s 335us/sample - loss: 0.1148 - accuracy: 0.9661\n",
            "Epoch 2/20\n",
            "54000/54000 [==============================] - 13s 237us/sample - loss: 0.0376 - accuracy: 0.9888\n",
            "Epoch 3/20\n",
            "54000/54000 [==============================] - 13s 239us/sample - loss: 0.0320 - accuracy: 0.9900\n",
            "Epoch 4/20\n",
            "54000/54000 [==============================] - 13s 238us/sample - loss: 0.0281 - accuracy: 0.9921\n",
            "Epoch 5/20\n",
            "54000/54000 [==============================] - 13s 237us/sample - loss: 0.0231 - accuracy: 0.9931\n",
            "Epoch 6/20\n",
            "54000/54000 [==============================] - 13s 239us/sample - loss: 0.0206 - accuracy: 0.9936\n",
            "Epoch 7/20\n",
            "54000/54000 [==============================] - 13s 237us/sample - loss: 0.0180 - accuracy: 0.9947\n",
            "Epoch 8/20\n",
            "54000/54000 [==============================] - 13s 235us/sample - loss: 0.0143 - accuracy: 0.9959\n",
            "Epoch 9/20\n",
            "54000/54000 [==============================] - 13s 236us/sample - loss: 0.0135 - accuracy: 0.9959\n",
            "Epoch 10/20\n",
            "54000/54000 [==============================] - 13s 237us/sample - loss: 0.0115 - accuracy: 0.9966\n",
            "Epoch 11/20\n",
            "54000/54000 [==============================] - 13s 234us/sample - loss: 0.0100 - accuracy: 0.9972\n",
            "Epoch 12/20\n",
            "54000/54000 [==============================] - 13s 237us/sample - loss: 0.0104 - accuracy: 0.9968\n",
            "Epoch 13/20\n",
            "54000/54000 [==============================] - 13s 235us/sample - loss: 0.0098 - accuracy: 0.9972\n",
            "Epoch 14/20\n",
            "54000/54000 [==============================] - 13s 235us/sample - loss: 0.0075 - accuracy: 0.9976\n",
            "Epoch 15/20\n",
            "54000/54000 [==============================] - 13s 236us/sample - loss: 0.0075 - accuracy: 0.9979\n",
            "Epoch 16/20\n",
            "54000/54000 [==============================] - 13s 240us/sample - loss: 0.0074 - accuracy: 0.9978\n",
            "Epoch 17/20\n",
            "54000/54000 [==============================] - 13s 237us/sample - loss: 0.0056 - accuracy: 0.9982\n",
            "Epoch 18/20\n",
            "54000/54000 [==============================] - 13s 236us/sample - loss: 0.0065 - accuracy: 0.9979\n",
            "Epoch 19/20\n",
            "54000/54000 [==============================] - 13s 237us/sample - loss: 0.0064 - accuracy: 0.9981\n",
            "Epoch 20/20\n",
            "54000/54000 [==============================] - 13s 234us/sample - loss: 0.0055 - accuracy: 0.9983\n"
          ],
          "name": "stdout"
        },
        {
          "output_type": "execute_result",
          "data": {
            "text/plain": [
              "<tensorflow.python.keras.callbacks.History at 0x7f1998fdd198>"
            ]
          },
          "metadata": {
            "tags": []
          },
          "execution_count": 15
        }
      ]
    },
    {
      "cell_type": "markdown",
      "metadata": {
        "id": "4ckre8SpeTuD",
        "colab_type": "text"
      },
      "source": [
        "# Validation 데이터로 평가"
      ]
    },
    {
      "cell_type": "code",
      "metadata": {
        "id": "c9I2AG-Z9yqX",
        "colab_type": "code",
        "outputId": "de0d4155-6528-45dd-d8f6-cd0e930ac04d",
        "colab": {
          "base_uri": "https://localhost:8080/",
          "height": 34
        }
      },
      "source": [
        "valid_loss, valid_acc = model.evaluate(x_valid, y_valid, verbose=2)"
      ],
      "execution_count": 0,
      "outputs": [
        {
          "output_type": "stream",
          "text": [
            "6000/1 - 1s - loss: 0.0087 - accuracy: 0.9957\n"
          ],
          "name": "stdout"
        }
      ]
    },
    {
      "cell_type": "markdown",
      "metadata": {
        "colab_type": "text",
        "id": "o3YCflb6eZhY"
      },
      "source": [
        "# Test 데이터 예측 및 평가"
      ]
    },
    {
      "cell_type": "code",
      "metadata": {
        "id": "2K00aZy9-ywu",
        "colab_type": "code",
        "outputId": "67e253d7-5ec1-4485-bbf2-309ef5c0521f",
        "colab": {
          "base_uri": "https://localhost:8080/",
          "height": 34
        }
      },
      "source": [
        "x_test = x_test.values.reshape(-1, 28, 28, 1)\n",
        "pred = model.predict(x_test)\n",
        "y_test = np.argmax(pred, axis=1)\n",
        "test_loss, test_acc = model.evaluate(x_test, y_test, verbose=2)"
      ],
      "execution_count": 0,
      "outputs": [
        {
          "output_type": "stream",
          "text": [
            "5000/1 - 0s - loss: 0.0033 - accuracy: 1.0000\n"
          ],
          "name": "stdout"
        }
      ]
    },
    {
      "cell_type": "markdown",
      "metadata": {
        "id": "tkRcodjAexaN",
        "colab_type": "text"
      },
      "source": [
        "# 제출"
      ]
    },
    {
      "cell_type": "code",
      "metadata": {
        "id": "RcE6yM-B_Jo5",
        "colab_type": "code",
        "colab": {}
      },
      "source": [
        "#test['label'] = np.argmax(pred, axis=1)\n",
        "#sub = test[['id', 'label']]\n",
        "#sub.to_csv('submission.csv', index=False)"
      ],
      "execution_count": 0,
      "outputs": []
    }
  ]
}
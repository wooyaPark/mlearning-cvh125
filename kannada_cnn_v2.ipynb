{
  "nbformat": 4,
  "nbformat_minor": 0,
  "metadata": {
    "colab": {
      "name": "kannada_cnn_v2.ipynb",
      "provenance": [],
      "collapsed_sections": []
    },
    "kernelspec": {
      "name": "python3",
      "display_name": "Python 3"
    },
    "accelerator": "GPU"
  },
  "cells": [
    {
      "cell_type": "code",
      "metadata": {
        "id": "tdoS9k4avKXo",
        "colab_type": "code",
        "outputId": "0e525738-b1a1-493d-b7b2-54085ade6508",
        "colab": {
          "base_uri": "https://localhost:8080/",
          "height": 34
        }
      },
      "source": [
        "from google.colab import drive\n",
        "drive.mount('/content/drive')"
      ],
      "execution_count": 0,
      "outputs": [
        {
          "output_type": "stream",
          "text": [
            "Drive already mounted at /content/drive; to attempt to forcibly remount, call drive.mount(\"/content/drive\", force_remount=True).\n"
          ],
          "name": "stdout"
        }
      ]
    },
    {
      "cell_type": "code",
      "metadata": {
        "id": "-Lkai-7_vRQx",
        "colab_type": "code",
        "outputId": "51fa30aa-55bd-44ee-ec31-5ef2877cf558",
        "colab": {
          "base_uri": "https://localhost:8080/",
          "height": 34
        }
      },
      "source": [
        "%tensorflow_version 2.x"
      ],
      "execution_count": 0,
      "outputs": [
        {
          "output_type": "stream",
          "text": [
            "TensorFlow 2.x selected.\n"
          ],
          "name": "stdout"
        }
      ]
    },
    {
      "cell_type": "code",
      "metadata": {
        "id": "-5pXNP8Hvejw",
        "colab_type": "code",
        "outputId": "6e60962e-2283-425a-c312-74000c693673",
        "colab": {
          "base_uri": "https://localhost:8080/",
          "height": 34
        }
      },
      "source": [
        "from __future__ import absolute_import, division, print_function, unicode_literals\n",
        "\n",
        "# tensorflow와 tf.keras를 임포트합니다\n",
        "#!pip install -q tensorflow-gpu==2.0.0-rc1\n",
        "import tensorflow as tf\n",
        "from tensorflow.keras import layers, models\n",
        "\n",
        "from  sklearn.model_selection import train_test_split\n",
        "\n",
        "# 헬퍼(helper) 라이브러리를 임포트합니다\n",
        "import pandas as pd\n",
        "import numpy as np\n",
        "import matplotlib.pyplot as plt\n",
        "\n",
        "print(tf.__version__)"
      ],
      "execution_count": 0,
      "outputs": [
        {
          "output_type": "stream",
          "text": [
            "2.0.0\n"
          ],
          "name": "stdout"
        }
      ]
    },
    {
      "cell_type": "code",
      "metadata": {
        "id": "zjCkt_GDwB15",
        "colab_type": "code",
        "colab": {}
      },
      "source": [
        "train = pd.read_csv(\"./drive/My Drive/data/kannada/train.csv\")\n",
        "test  = pd.read_csv(\"./drive/My Drive/data/kannada/test.csv\")\n",
        "\n",
        "#dig = pd.read_csv(\"./drive/My Drive/data/kannada/Dig-MNIST.csv\")"
      ],
      "execution_count": 0,
      "outputs": []
    },
    {
      "cell_type": "code",
      "metadata": {
        "id": "55pXfEn-0by5",
        "colab_type": "code",
        "colab": {}
      },
      "source": [
        "#train = pd.concat([train, dig])"
      ],
      "execution_count": 0,
      "outputs": []
    },
    {
      "cell_type": "code",
      "metadata": {
        "id": "yxfhuxhhwB9S",
        "colab_type": "code",
        "colab": {}
      },
      "source": [
        "train_images = train.iloc[:,1:]\n",
        "train_labels = train[\"label\"]\n",
        "test_images = test.iloc[:,1:]"
      ],
      "execution_count": 0,
      "outputs": []
    },
    {
      "cell_type": "code",
      "metadata": {
        "id": "Pi-SC-KJzL-q",
        "colab_type": "code",
        "colab": {}
      },
      "source": [
        "x_train, x_valid, y_train, y_valid = train_test_split(train_images, train_labels, test_size=0.1, random_state=42)"
      ],
      "execution_count": 0,
      "outputs": []
    },
    {
      "cell_type": "code",
      "metadata": {
        "id": "HLov6QpLzM93",
        "colab_type": "code",
        "colab": {}
      },
      "source": [
        "class_names = ['0','1','2','3','4','5','6','7','8','9']"
      ],
      "execution_count": 0,
      "outputs": []
    },
    {
      "cell_type": "code",
      "metadata": {
        "id": "kdZdcPhXzNBI",
        "colab_type": "code",
        "colab": {}
      },
      "source": [
        "x_train, x_valid, x_test = x_train.apply(lambda x: x/255), x_valid.apply(lambda x: x/255), test_images.apply(lambda x: x/255)"
      ],
      "execution_count": 0,
      "outputs": []
    },
    {
      "cell_type": "code",
      "metadata": {
        "id": "H0v5LO29zNEK",
        "colab_type": "code",
        "colab": {}
      },
      "source": [
        "x_train = x_train.values.reshape(-1, 28, 28, 1)\n",
        "x_valid = x_valid.values.reshape(-1, 28, 28, 1)\n",
        "x_test = x_test.values.reshape(-1, 28, 28, 1)"
      ],
      "execution_count": 0,
      "outputs": []
    },
    {
      "cell_type": "code",
      "metadata": {
        "id": "gPRDpg-bzNKj",
        "colab_type": "code",
        "colab": {}
      },
      "source": [
        "y_train = y_train.to_numpy()\n",
        "y_valid = y_valid.to_numpy()"
      ],
      "execution_count": 0,
      "outputs": []
    },
    {
      "cell_type": "code",
      "metadata": {
        "id": "cQvDIETJTNKr",
        "colab_type": "code",
        "colab": {}
      },
      "source": [
        "# Learning Rate 조절 필요\n",
        "\n",
        "model = models.Sequential()\n",
        "model.add(layers.Conv2D(64, (3, 3), activation='relu', input_shape=(28, 28, 1)))\n",
        "model.add(layers.BatchNormalization())\n",
        "model.add(layers.Conv2D(64, (3, 3), activation='relu'))\n",
        "model.add(layers.BatchNormalization())\n",
        "model.add(layers.MaxPooling2D((2, 2)))\n",
        "model.add(layers.Dropout(0.2))\n",
        "\n",
        "model.add(layers.Conv2D(128, (3, 3), activation='relu'))\n",
        "model.add(layers.BatchNormalization())\n",
        "model.add(layers.Conv2D(128, (3, 3), activation='relu'))\n",
        "model.add(layers.BatchNormalization())\n",
        "model.add(layers.MaxPooling2D((2, 2)))\n",
        "model.add(layers.Dropout(0.2))\n",
        "\n",
        "model.add(layers.Conv2D(256, (3, 3), activation='relu'))\n",
        "model.add(layers.BatchNormalization())\n",
        "model.add(layers.MaxPooling2D((2, 2)))\n",
        "model.add(layers.Dropout(0.2))"
      ],
      "execution_count": 0,
      "outputs": []
    },
    {
      "cell_type": "code",
      "metadata": {
        "id": "Au3yhJvPzNRT",
        "colab_type": "code",
        "colab": {}
      },
      "source": [
        "model.add(layers.Flatten())\n",
        "model.add(layers.Dense(128, activation='relu'))\n",
        "model.add(layers.BatchNormalization())\n",
        "model.add(layers.Dense(64, activation='relu'))\n",
        "model.add(layers.BatchNormalization())\n",
        "model.add(layers.Dense(10, activation='softmax'))"
      ],
      "execution_count": 0,
      "outputs": []
    },
    {
      "cell_type": "code",
      "metadata": {
        "id": "tXaube1PHZhE",
        "colab_type": "code",
        "outputId": "934038d9-c899-47fa-f64a-32e29c4e3ac0",
        "colab": {
          "base_uri": "https://localhost:8080/",
          "height": 932
        }
      },
      "source": [
        "model.summary()"
      ],
      "execution_count": 0,
      "outputs": [
        {
          "output_type": "stream",
          "text": [
            "Model: \"sequential\"\n",
            "_________________________________________________________________\n",
            "Layer (type)                 Output Shape              Param #   \n",
            "=================================================================\n",
            "conv2d (Conv2D)              (None, 26, 26, 64)        640       \n",
            "_________________________________________________________________\n",
            "batch_normalization (BatchNo (None, 26, 26, 64)        256       \n",
            "_________________________________________________________________\n",
            "conv2d_1 (Conv2D)            (None, 24, 24, 64)        36928     \n",
            "_________________________________________________________________\n",
            "batch_normalization_1 (Batch (None, 24, 24, 64)        256       \n",
            "_________________________________________________________________\n",
            "max_pooling2d (MaxPooling2D) (None, 12, 12, 64)        0         \n",
            "_________________________________________________________________\n",
            "dropout (Dropout)            (None, 12, 12, 64)        0         \n",
            "_________________________________________________________________\n",
            "conv2d_2 (Conv2D)            (None, 10, 10, 128)       73856     \n",
            "_________________________________________________________________\n",
            "batch_normalization_2 (Batch (None, 10, 10, 128)       512       \n",
            "_________________________________________________________________\n",
            "conv2d_3 (Conv2D)            (None, 8, 8, 128)         147584    \n",
            "_________________________________________________________________\n",
            "batch_normalization_3 (Batch (None, 8, 8, 128)         512       \n",
            "_________________________________________________________________\n",
            "max_pooling2d_1 (MaxPooling2 (None, 4, 4, 128)         0         \n",
            "_________________________________________________________________\n",
            "dropout_1 (Dropout)          (None, 4, 4, 128)         0         \n",
            "_________________________________________________________________\n",
            "conv2d_4 (Conv2D)            (None, 2, 2, 256)         295168    \n",
            "_________________________________________________________________\n",
            "batch_normalization_4 (Batch (None, 2, 2, 256)         1024      \n",
            "_________________________________________________________________\n",
            "max_pooling2d_2 (MaxPooling2 (None, 1, 1, 256)         0         \n",
            "_________________________________________________________________\n",
            "dropout_2 (Dropout)          (None, 1, 1, 256)         0         \n",
            "_________________________________________________________________\n",
            "flatten (Flatten)            (None, 256)               0         \n",
            "_________________________________________________________________\n",
            "dense (Dense)                (None, 128)               32896     \n",
            "_________________________________________________________________\n",
            "batch_normalization_5 (Batch (None, 128)               512       \n",
            "_________________________________________________________________\n",
            "dense_1 (Dense)              (None, 64)                8256      \n",
            "_________________________________________________________________\n",
            "batch_normalization_6 (Batch (None, 64)                256       \n",
            "_________________________________________________________________\n",
            "dense_2 (Dense)              (None, 10)                650       \n",
            "=================================================================\n",
            "Total params: 599,306\n",
            "Trainable params: 597,642\n",
            "Non-trainable params: 1,664\n",
            "_________________________________________________________________\n"
          ],
          "name": "stdout"
        }
      ]
    },
    {
      "cell_type": "code",
      "metadata": {
        "id": "LZl3Gntd9yd4",
        "colab_type": "code",
        "colab": {}
      },
      "source": [
        "model.compile(optimizer='adam',\n",
        "              loss='sparse_categorical_crossentropy',\n",
        "              metrics=['accuracy'])"
      ],
      "execution_count": 0,
      "outputs": []
    },
    {
      "cell_type": "code",
      "metadata": {
        "id": "yI-EsKjc9ymk",
        "colab_type": "code",
        "outputId": "b21a6362-87ed-4578-b778-b1444a3bcc3b",
        "colab": {
          "base_uri": "https://localhost:8080/",
          "height": 756
        }
      },
      "source": [
        "model.fit(x_train, y_train, epochs=20)"
      ],
      "execution_count": 0,
      "outputs": [
        {
          "output_type": "stream",
          "text": [
            "Train on 59704 samples\n",
            "Epoch 1/20\n",
            "59704/59704 [==============================] - 17s 290us/sample - loss: 0.1590 - accuracy: 0.9520\n",
            "Epoch 2/20\n",
            "59704/59704 [==============================] - 14s 240us/sample - loss: 0.0703 - accuracy: 0.9792\n",
            "Epoch 3/20\n",
            "59704/59704 [==============================] - 14s 238us/sample - loss: 0.0564 - accuracy: 0.9829\n",
            "Epoch 4/20\n",
            "59704/59704 [==============================] - 14s 238us/sample - loss: 0.0470 - accuracy: 0.9857\n",
            "Epoch 5/20\n",
            "59704/59704 [==============================] - 14s 237us/sample - loss: 0.0389 - accuracy: 0.9879\n",
            "Epoch 6/20\n",
            "59704/59704 [==============================] - 14s 236us/sample - loss: 0.0334 - accuracy: 0.9898\n",
            "Epoch 7/20\n",
            "59704/59704 [==============================] - 14s 236us/sample - loss: 0.0287 - accuracy: 0.9910\n",
            "Epoch 8/20\n",
            "59704/59704 [==============================] - 14s 236us/sample - loss: 0.0259 - accuracy: 0.9919\n",
            "Epoch 9/20\n",
            "59704/59704 [==============================] - 14s 238us/sample - loss: 0.0218 - accuracy: 0.9931\n",
            "Epoch 10/20\n",
            "59704/59704 [==============================] - 14s 236us/sample - loss: 0.0204 - accuracy: 0.9935\n",
            "Epoch 11/20\n",
            "59704/59704 [==============================] - 14s 236us/sample - loss: 0.0188 - accuracy: 0.9939\n",
            "Epoch 12/20\n",
            "59704/59704 [==============================] - 14s 233us/sample - loss: 0.0162 - accuracy: 0.9947\n",
            "Epoch 13/20\n",
            "59704/59704 [==============================] - 14s 237us/sample - loss: 0.0140 - accuracy: 0.9953\n",
            "Epoch 14/20\n",
            "59704/59704 [==============================] - 14s 234us/sample - loss: 0.0141 - accuracy: 0.9957\n",
            "Epoch 15/20\n",
            "59704/59704 [==============================] - 14s 231us/sample - loss: 0.0116 - accuracy: 0.9965\n",
            "Epoch 16/20\n",
            "59704/59704 [==============================] - 14s 231us/sample - loss: 0.0118 - accuracy: 0.9964\n",
            "Epoch 17/20\n",
            "59704/59704 [==============================] - 14s 228us/sample - loss: 0.0099 - accuracy: 0.9967\n",
            "Epoch 18/20\n",
            "59704/59704 [==============================] - 14s 229us/sample - loss: 0.0081 - accuracy: 0.9974\n",
            "Epoch 19/20\n",
            "59704/59704 [==============================] - 14s 232us/sample - loss: 0.0090 - accuracy: 0.9972\n",
            "Epoch 20/20\n",
            "59704/59704 [==============================] - 14s 238us/sample - loss: 0.0089 - accuracy: 0.9970\n"
          ],
          "name": "stdout"
        },
        {
          "output_type": "execute_result",
          "data": {
            "text/plain": [
              "<tensorflow.python.keras.callbacks.History at 0x7f03cc290f98>"
            ]
          },
          "metadata": {
            "tags": []
          },
          "execution_count": 16
        }
      ]
    },
    {
      "cell_type": "code",
      "metadata": {
        "id": "c9I2AG-Z9yqX",
        "colab_type": "code",
        "outputId": "b0ae33d4-92d1-4c33-cf04-f32fe7a4fc5d",
        "colab": {
          "base_uri": "https://localhost:8080/",
          "height": 34
        }
      },
      "source": [
        "test_loss, test_acc = model.evaluate(x_valid, y_valid, verbose=2)"
      ],
      "execution_count": 0,
      "outputs": [
        {
          "output_type": "stream",
          "text": [
            "10536/1 - 1s - loss: 0.0193 - accuracy: 0.9917\n"
          ],
          "name": "stdout"
        }
      ]
    },
    {
      "cell_type": "markdown",
      "metadata": {
        "id": "MMvwqW857bS3",
        "colab_type": "text"
      },
      "source": [
        "model.fit(x_train, y_train, epochs=20)\n",
        "\n",
        "6000/1 - 2s - loss: 0.0057 - accuracy: 0.9955"
      ]
    },
    {
      "cell_type": "code",
      "metadata": {
        "id": "2K00aZy9-ywu",
        "colab_type": "code",
        "colab": {}
      },
      "source": [
        "pred = model.predict(x_test)"
      ],
      "execution_count": 0,
      "outputs": []
    },
    {
      "cell_type": "code",
      "metadata": {
        "id": "d8fMTNFCFmIM",
        "colab_type": "code",
        "outputId": "c251f0b5-36ea-4410-d246-45710f86e833",
        "colab": {
          "base_uri": "https://localhost:8080/",
          "height": 34
        }
      },
      "source": [
        "y_test = np.argmax(pred, axis=1)\n",
        "test_loss, test_acc = model.evaluate(x_test, y_test, verbose=2)"
      ],
      "execution_count": 0,
      "outputs": [
        {
          "output_type": "stream",
          "text": [
            "5000/1 - 1s - loss: 0.0126 - accuracy: 1.0000\n"
          ],
          "name": "stdout"
        }
      ]
    },
    {
      "cell_type": "code",
      "metadata": {
        "id": "RcE6yM-B_Jo5",
        "colab_type": "code",
        "colab": {}
      },
      "source": [
        "test['label'] = np.argmax(pred, axis=1)"
      ],
      "execution_count": 0,
      "outputs": []
    },
    {
      "cell_type": "code",
      "metadata": {
        "id": "8rEiH3lBBBzS",
        "colab_type": "code",
        "colab": {}
      },
      "source": [
        "sub = test[['id', 'label']]"
      ],
      "execution_count": 0,
      "outputs": []
    },
    {
      "cell_type": "code",
      "metadata": {
        "id": "KDHOa893BB2r",
        "colab_type": "code",
        "colab": {}
      },
      "source": [
        "sub.to_csv('submission.csv', index=False)"
      ],
      "execution_count": 0,
      "outputs": []
    }
  ]
}